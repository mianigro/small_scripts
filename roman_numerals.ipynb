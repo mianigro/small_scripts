{
 "cells": [
  {
   "cell_type": "code",
   "execution_count": 3,
   "id": "fc1c3664",
   "metadata": {},
   "outputs": [
    {
     "name": "stdout",
     "output_type": "stream",
     "text": [
      "12\n"
     ]
    }
   ],
   "source": [
    "def convert_roman(roman_in):\n",
    "        \n",
    "    rn_dict = {\"I\": 1, \"V\": 5, \"X\": 10, \"L\": 50, \"C\": 100, \"D\": 500, \"M\": 1000}\n",
    "    item_list = []\n",
    "    count = 0\n",
    "        \n",
    "    for item in roman_in:\n",
    "        item_list.append(rn_dict[item])\n",
    "        \n",
    "    x = 0\n",
    "        \n",
    "    for x in range(0, len(item_list)):\n",
    "            \n",
    "        if x < len(item_list)-1:\n",
    "            if item_list[x] >= item_list[x+1]:\n",
    "                count = count + item_list[x]\n",
    "\n",
    "            elif item_list[x] < item_list[x+1]:\n",
    "                count = count - item_list[x]\n",
    "            \n",
    "        else:\n",
    "            count = count + item_list[x]\n",
    "            \n",
    "    return count\n",
    "\n",
    "print(convert_roman(\"MCMXCIV\"))"
   ]
  },
  {
   "cell_type": "code",
   "execution_count": null,
   "id": "21d38bc6",
   "metadata": {},
   "outputs": [],
   "source": []
  },
  {
   "cell_type": "code",
   "execution_count": null,
   "id": "4f198795",
   "metadata": {},
   "outputs": [],
   "source": []
  }
 ],
 "metadata": {
  "kernelspec": {
   "display_name": "Python 3 (ipykernel)",
   "language": "python",
   "name": "python3"
  },
  "language_info": {
   "codemirror_mode": {
    "name": "ipython",
    "version": 3
   },
   "file_extension": ".py",
   "mimetype": "text/x-python",
   "name": "python",
   "nbconvert_exporter": "python",
   "pygments_lexer": "ipython3",
   "version": "3.10.4"
  }
 },
 "nbformat": 4,
 "nbformat_minor": 5
}
